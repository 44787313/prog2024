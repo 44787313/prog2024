{
  "nbformat": 4,
  "nbformat_minor": 0,
  "metadata": {
    "colab": {
      "provenance": [],
      "include_colab_link": true
    },
    "kernelspec": {
      "name": "python3",
      "display_name": "Python 3"
    },
    "language_info": {
      "name": "python"
    }
  },
  "cells": [
    {
      "cell_type": "markdown",
      "metadata": {
        "id": "view-in-github",
        "colab_type": "text"
      },
      "source": [
        "<a href=\"https://colab.research.google.com/github/44787313/prog2024/blob/main/Homework_3.ipynb\" target=\"_parent\"><img src=\"https://colab.research.google.com/assets/colab-badge.svg\" alt=\"Open In Colab\"/></a>"
      ]
    },
    {
      "cell_type": "code",
      "execution_count": 1,
      "metadata": {
        "id": "BTmS_QtY25Nm"
      },
      "outputs": [],
      "source": [
        "import numpy as np\n",
        "import matplotlib.pyplot as plt\n",
        "import matplotlib.animation as animation"
      ]
    },
    {
      "cell_type": "markdown",
      "source": [
        "# Flocking Homework\n",
        "\n",
        "Biology 1134\n",
        "\n",
        "10/9/25\n",
        "\n",
        "Due: Friday 10/17/25 by 5pm"
      ],
      "metadata": {
        "id": "zBLmvNLg3EHS"
      }
    },
    {
      "cell_type": "markdown",
      "source": [
        "# Problem 1: Orthogonal leaders"
      ],
      "metadata": {
        "id": "Kev_i4Yc3RUR"
      }
    },
    {
      "cell_type": "markdown",
      "source": [
        "Modify the simulation code you developed in the lab to have a subset of 10 informed leaders that move in orthogonal directions (e.g. $\\pi/2$ vs. $0$). Using the same parameters as in the lab, evaluate whether or not one \"wins\" or if both groups \"win\" (i.e. distinct patches of individuals move in the direction of the two different groups). Watch videos and plot time courses to assess."
      ],
      "metadata": {
        "id": "Dyb4JvTb6dmI"
      }
    },
    {
      "cell_type": "code",
      "source": [
        "def informed_boids_dyn(pars):\n",
        "  thetam = pars['thetam']\n",
        "  m=pars['m']\n",
        "  N=pars['N']\n",
        "  eta=pars['eta']\n",
        "  L=pars['L']\n",
        "  totsteps=pars['totsteps']\n",
        "  delt=pars['dt']\n",
        "  v0=pars['v0']\n",
        "  r=pars['r']\n",
        "  # Initialize\n",
        "  currx=np.random.uniform(size=N)*L\n",
        "  curry=np.random.uniform(size=N)*L\n",
        "  currtheta = np.random.uniform(size=N)*2*np.pi\n",
        "\n",
        "  # Preallocate output\n",
        "  xt = np.zeros((totsteps,N))\n",
        "  yt = np.zeros((totsteps,N))\n",
        "  thetat = np.zeros((totsteps,N))\n",
        "\n",
        "  # Simulation\n",
        "  for t in range(totsteps):\n",
        "    newtheta = np.zeros(N)\n",
        "    newtheta[:m]=thetam\n",
        "    # Loop through each boid and estimate new directions\n",
        "    for i in range(m+1, N):\n",
        "      dx = np.minimum(np.abs(currx-currx[i]),\n",
        "                      np.abs(currx-currx[i]+L),\n",
        "                      np.abs(currx-currx[i]-L))\n",
        "      dy = np.minimum(np.abs(curry-curry[i]),\n",
        "                      np.abs(curry-curry[i]+L),\n",
        "                      np.abs(curry-curry[i]-L))\n",
        "\n",
        "      boid_r = np.sqrt(dx**2 + dy**2)\n",
        "      thetas = currtheta[boid_r <= r]\n",
        "      avgx = np.mean(np.cos(thetas))\n",
        "      avgy = np.mean(np.sin(thetas))\n",
        "      newtheta[i]=np.arctan2(avgy,avgx)\n",
        "\n",
        "    # Obtain noise vector(from -eta/2 to eta/2)\n",
        "    deltheta = -eta/2 + eta*np.random.uniform(size=N)\n",
        "    # Add noise\n",
        "    currtheta = newtheta+deltheta\n",
        "\n",
        "    currx = np.mod(currx + v0*np.cos(currtheta*delt), L)\n",
        "    curry = np.mod(curry + v0*np.sin(currtheta*delt), L)\n",
        "    xt[t,:] = currx\n",
        "    yt[t,:] = curry\n",
        "    thetat[t,:] = currtheta\n",
        "  return xt,yt,thetat"
      ],
      "metadata": {
        "id": "a9mRpwyyz1ZT"
      },
      "execution_count": 2,
      "outputs": []
    },
    {
      "cell_type": "code",
      "source": [
        "pars = {}\n",
        "pars['m']=10\n",
        "pars['thetam']=np.pi / 2\n",
        "pars['N'] = 250\n",
        "pars['L'] = 5\n",
        "pars['totsteps'] = 901\n",
        "pars['dt'] = 0.2\n",
        "pars['v0'] = 0.03\n",
        "pars['r'] = 0.5\n",
        "pars['eta'] = 0.1\n",
        "\n",
        "xt, yt, thetat = informed_boids_dyn(pars)"
      ],
      "metadata": {
        "id": "KlGNBOMl1PCz"
      },
      "execution_count": 7,
      "outputs": []
    },
    {
      "cell_type": "code",
      "source": [
        "def movie_dyn(xt, yt, thetat, pars, filename='boids_movie.mp4'):\n",
        "  fig, ax = plt.subplots(figsize=(5,5))\n",
        "  N = pars['N']\n",
        "  L = pars['L']\n",
        "  ax.set_xlim(0,L)\n",
        "  ax.set_ylim(0,L)\n",
        "  ax.set_xticks([])\n",
        "  ax.set_yticks([])\n",
        "  ax.set_aspect('equal')\n",
        "  # Initialize with first frame's data\n",
        "  sc = ax.plot(xt[0,:], yt[0,:], 'k.')[0]\n",
        "  qv = ax.quiver(xt[0,:], yt[0,:], np.cos(thetat[0,:]), np.sin(thetat[0,:]), color='grey', scale=15, width=0.006)\n",
        "\n",
        "  def update(i):\n",
        "    sc.set_data(xt[i,:], yt[i,:])\n",
        "    qv.set_offsets(np.c_[xt[i,:], yt[i,:]])\n",
        "    qv.set_UVC(np.cos(thetat[i,:]), np.sin(thetat[i,:]))\n",
        "    ax.set_title(f't = {i}')\n",
        "    return sc,qv\n",
        "\n",
        "  anim = animation.FuncAnimation(fig, update, frames=len(xt), blit=True)\n",
        "  anim.save(filename, writer='ffmpeg', fps=30, dpi=200)\n",
        "  plt.close(fig)\n",
        "  print(f'Animation saved as {filename}')"
      ],
      "metadata": {
        "id": "7AIqGFve1sXL"
      },
      "execution_count": 5,
      "outputs": []
    },
    {
      "cell_type": "code",
      "source": [
        "movie_dyn(xt, yt, thetat, pars)"
      ],
      "metadata": {
        "id": "C2lW5YZB118-",
        "outputId": "6228fcf7-5afc-4189-8174-d0f05516eb05",
        "colab": {
          "base_uri": "https://localhost:8080/"
        }
      },
      "execution_count": 8,
      "outputs": [
        {
          "output_type": "stream",
          "name": "stdout",
          "text": [
            "Animation saved as boids_movie.mp4\n"
          ]
        }
      ]
    },
    {
      "cell_type": "code",
      "source": [
        "from google.colab import files\n",
        "files.download('boids_movie.mp4')"
      ],
      "metadata": {
        "id": "Miux7mSK2CR2",
        "outputId": "f1885e4a-64ad-484b-91c5-53534d00aa8c",
        "colab": {
          "base_uri": "https://localhost:8080/",
          "height": 17
        }
      },
      "execution_count": 9,
      "outputs": [
        {
          "output_type": "display_data",
          "data": {
            "text/plain": [
              "<IPython.core.display.Javascript object>"
            ],
            "application/javascript": [
              "\n",
              "    async function download(id, filename, size) {\n",
              "      if (!google.colab.kernel.accessAllowed) {\n",
              "        return;\n",
              "      }\n",
              "      const div = document.createElement('div');\n",
              "      const label = document.createElement('label');\n",
              "      label.textContent = `Downloading \"${filename}\": `;\n",
              "      div.appendChild(label);\n",
              "      const progress = document.createElement('progress');\n",
              "      progress.max = size;\n",
              "      div.appendChild(progress);\n",
              "      document.body.appendChild(div);\n",
              "\n",
              "      const buffers = [];\n",
              "      let downloaded = 0;\n",
              "\n",
              "      const channel = await google.colab.kernel.comms.open(id);\n",
              "      // Send a message to notify the kernel that we're ready.\n",
              "      channel.send({})\n",
              "\n",
              "      for await (const message of channel.messages) {\n",
              "        // Send a message to notify the kernel that we're ready.\n",
              "        channel.send({})\n",
              "        if (message.buffers) {\n",
              "          for (const buffer of message.buffers) {\n",
              "            buffers.push(buffer);\n",
              "            downloaded += buffer.byteLength;\n",
              "            progress.value = downloaded;\n",
              "          }\n",
              "        }\n",
              "      }\n",
              "      const blob = new Blob(buffers, {type: 'application/binary'});\n",
              "      const a = document.createElement('a');\n",
              "      a.href = window.URL.createObjectURL(blob);\n",
              "      a.download = filename;\n",
              "      div.appendChild(a);\n",
              "      a.click();\n",
              "      div.remove();\n",
              "    }\n",
              "  "
            ]
          },
          "metadata": {}
        },
        {
          "output_type": "display_data",
          "data": {
            "text/plain": [
              "<IPython.core.display.Javascript object>"
            ],
            "application/javascript": [
              "download(\"download_8e91c6b0-6f4d-4846-8a3c-d3a167d39207\", \"boids_movie.mp4\", 7199245)"
            ]
          },
          "metadata": {}
        }
      ]
    },
    {
      "cell_type": "markdown",
      "source": [
        "# Problem 2: Critical Noise"
      ],
      "metadata": {
        "id": "5HwCfmOK7BAO"
      }
    },
    {
      "cell_type": "markdown",
      "source": [
        "Measure the order parameter as a function of noise using a flock size of $N=300$, $r=0.3$, $v_o = 0.03$, $dt=0.2$, and $totsteps=901$. Modulate $\\eta$ from 0 to 4 in increments of 0.25, using `eta_range = np.arange(0,4.1,0.25)`. Identify a transition point between order and disorder.\n",
        "\n",
        "To do this, first plot the order parameter over time for all noise values.\n",
        "\n",
        "Then, average the last 400 timepoints of the order parameter for each value of $\\eta$. (You could do this with a loop containing a line of code such as: `np.mean(dyn2orderpar(thetat_dict[this_eta])[-400:])`, assuming you have a dictionary `thetat_dict` which has your `thetat` outputs from looping over `eta_range`.) Make a scatter plot of those averages on the y axis vs. noise on the x axis.\n",
        "\n",
        "Finally, choose a critical value of noise that marks your transition point. Produce a plot like the one in Fig. 3 of the Vicsek et al. paper by plotting the averaged order parameters from above vs. $(\\eta_c - \\eta)/\\eta_c$. How does your plot compare to the one in the paper? You can try adding more noise values if you'd like to make it more similar."
      ],
      "metadata": {
        "id": "qQH3iY347PlT"
      }
    }
  ]
}